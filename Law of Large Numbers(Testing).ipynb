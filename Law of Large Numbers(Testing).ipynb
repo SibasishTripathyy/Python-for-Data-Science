{
 "cells": [
  {
   "cell_type": "code",
   "execution_count": 1,
   "metadata": {
    "collapsed": true
   },
   "outputs": [],
   "source": [
    "# Testing the law of large numbers\n",
    "# As we increase the number of samples, our answer should converge to 68.2%"
   ]
  },
  {
   "cell_type": "code",
   "execution_count": 2,
   "metadata": {
    "collapsed": true
   },
   "outputs": [],
   "source": [
    "# Importing the required modules\n",
    "import numpy as np\n",
    "from numpy.random import randn"
   ]
  },
  {
   "cell_type": "code",
   "execution_count": 3,
   "metadata": {},
   "outputs": [
    {
     "data": {
      "text/plain": [
       "0.5261125351153407"
      ]
     },
     "execution_count": 3,
     "metadata": {},
     "output_type": "execute_result"
    }
   ],
   "source": [
    "# Just checking if randn() is correctly imported\n",
    "randn()"
   ]
  },
  {
   "cell_type": "code",
   "execution_count": 16,
   "metadata": {},
   "outputs": [
    {
     "name": "stdout",
     "output_type": "stream",
     "text": [
      "68.0\n"
     ]
    }
   ],
   "source": [
    "counter = 0 # 'counter' variable holds the numbers that lie between -1 and 1\n",
    "i = 1 # Loop variable for iteration\n",
    "while i <= 100: # First checking the result for 100 iterations\n",
    "    x = randn()\n",
    "    if(x > -1 and x < 1):\n",
    "        counter = counter + 1\n",
    "    \n",
    "    i = i + 1\n",
    "    \n",
    "percentage = (counter/100)*100\n",
    "        \n",
    "print(percentage)"
   ]
  },
  {
   "cell_type": "code",
   "execution_count": 26,
   "metadata": {},
   "outputs": [
    {
     "name": "stdout",
     "output_type": "stream",
     "text": [
      "68.7\n"
     ]
    }
   ],
   "source": [
    "counter = 0 # 'counter' variable holds the numbers that lie between -1 and 1\n",
    "i = 1 # Loop variable for iteration\n",
    "while i <= 1000: # Checking the result for 100 iterations\n",
    "    x = randn()\n",
    "    if(x > -1 and x < 1):\n",
    "        counter = counter + 1\n",
    "    \n",
    "    i = i + 1\n",
    "    \n",
    "percentage = (counter/1000)*100\n",
    "        \n",
    "print(percentage)"
   ]
  },
  {
   "cell_type": "code",
   "execution_count": null,
   "metadata": {
    "collapsed": true
   },
   "outputs": [],
   "source": [
    "# We see that the value converges to 68.2!"
   ]
  }
 ],
 "metadata": {
  "kernelspec": {
   "display_name": "Python 3",
   "language": "python",
   "name": "python3"
  },
  "language_info": {
   "codemirror_mode": {
    "name": "ipython",
    "version": 3
   },
   "file_extension": ".py",
   "mimetype": "text/x-python",
   "name": "python",
   "nbconvert_exporter": "python",
   "pygments_lexer": "ipython3",
   "version": "3.6.3"
  }
 },
 "nbformat": 4,
 "nbformat_minor": 2
}
